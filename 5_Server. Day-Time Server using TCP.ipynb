{
 "cells": [
  {
   "cell_type": "code",
   "execution_count": null,
   "id": "7433673e",
   "metadata": {},
   "outputs": [
    {
     "name": "stdout",
     "output_type": "stream",
     "text": [
      "Socket created\n",
      "Waiting for Connection...\n",
      "Connected to:  ('192.168.1.19', 64754)\n"
     ]
    }
   ],
   "source": [
    "import socket\n",
    "import datetime\n",
    "s = socket.socket(socket.AF_INET, socket.SOCK_STREAM)\n",
    "print(\"Socket created\")\n",
    "s.bind((socket.gethostname(), 2130))\n",
    "s.listen(5)\n",
    "print(\"Waiting for Connection...\")\n",
    "dateAsString = str(datetime.datetime.now())\n",
    "while True:\n",
    "    c, addr = s.accept()\n",
    "    c.send(bytes(dateAsString, \"utf-8\"))\n",
    "    print(\"Connected to: \",addr)"
   ]
  },
  {
   "cell_type": "code",
   "execution_count": null,
   "id": "a8a11d8b",
   "metadata": {},
   "outputs": [],
   "source": []
  }
 ],
 "metadata": {
  "kernelspec": {
   "display_name": "Python 3 (ipykernel)",
   "language": "python",
   "name": "python3"
  },
  "language_info": {
   "codemirror_mode": {
    "name": "ipython",
    "version": 3
   },
   "file_extension": ".py",
   "mimetype": "text/x-python",
   "name": "python",
   "nbconvert_exporter": "python",
   "pygments_lexer": "ipython3",
   "version": "3.9.7"
  }
 },
 "nbformat": 4,
 "nbformat_minor": 5
}
