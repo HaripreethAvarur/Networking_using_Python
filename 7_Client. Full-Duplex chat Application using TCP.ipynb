{
 "cells": [
  {
   "cell_type": "code",
   "execution_count": null,
   "id": "db0e9790",
   "metadata": {},
   "outputs": [
    {
     "name": "stdout",
     "output_type": "stream",
     "text": [
      "client connected to server\n",
      ">>hi\n",
      "hello\n",
      ">>sup\n"
     ]
    }
   ],
   "source": [
    "import socket \n",
    "addr = ('localhost',3000)\n",
    "\n",
    "client = socket.socket(socket.AF_INET,socket.SOCK_STREAM)\n",
    "client.connect(addr)\n",
    "print(\"client connected to server\")\n",
    "connected = True\n",
    "while connected:\n",
    "    msg = input(\">>\")\n",
    "    client.send(msg.encode('utf-8'))\n",
    "    if(msg==\"disconnect\"):\n",
    "        connected=False\n",
    "    else:\n",
    "        msg = client.recv(1024).decode('utf-8')\n",
    "        print(msg)\n",
    "client.close()"
   ]
  },
  {
   "cell_type": "code",
   "execution_count": null,
   "id": "013b0db7",
   "metadata": {},
   "outputs": [],
   "source": []
  }
 ],
 "metadata": {
  "kernelspec": {
   "display_name": "Python 3 (ipykernel)",
   "language": "python",
   "name": "python3"
  },
  "language_info": {
   "codemirror_mode": {
    "name": "ipython",
    "version": 3
   },
   "file_extension": ".py",
   "mimetype": "text/x-python",
   "name": "python",
   "nbconvert_exporter": "python",
   "pygments_lexer": "ipython3",
   "version": "3.9.7"
  }
 },
 "nbformat": 4,
 "nbformat_minor": 5
}
