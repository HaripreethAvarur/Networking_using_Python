{
 "cells": [
  {
   "cell_type": "code",
   "execution_count": null,
   "id": "20fd80c6",
   "metadata": {},
   "outputs": [
    {
     "name": "stdout",
     "output_type": "stream",
     "text": [
      "Socket Created\n",
      "Waiting for Connection...\n",
      "Connected to:  ('127.0.0.1', 53099)\n"
     ]
    }
   ],
   "source": [
    "#server \n",
    "import socket\n",
    "s=socket.socket()\n",
    "print(\"Socket Created\")\n",
    "s.bind(('localhost', 2130))\n",
    "s.listen(3)\n",
    "print(\"Waiting for Connection...\")\n",
    "while True:\n",
    "    c,addr=s.accept()\n",
    "    print(\"Connected to: \", addr)\n",
    "    c.send(bytes(\"Hello World!\",'utf-8'))\n",
    "    c.close()"
   ]
  },
  {
   "cell_type": "code",
   "execution_count": null,
   "id": "2b2270b7",
   "metadata": {},
   "outputs": [],
   "source": []
  }
 ],
 "metadata": {
  "kernelspec": {
   "display_name": "Python 3 (ipykernel)",
   "language": "python",
   "name": "python3"
  },
  "language_info": {
   "codemirror_mode": {
    "name": "ipython",
    "version": 3
   },
   "file_extension": ".py",
   "mimetype": "text/x-python",
   "name": "python",
   "nbconvert_exporter": "python",
   "pygments_lexer": "ipython3",
   "version": "3.9.7"
  }
 },
 "nbformat": 4,
 "nbformat_minor": 5
}
