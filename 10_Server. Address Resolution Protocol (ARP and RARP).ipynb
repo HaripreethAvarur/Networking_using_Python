{
 "cells": [
  {
   "cell_type": "code",
   "execution_count": 1,
   "id": "d7ae6892",
   "metadata": {},
   "outputs": [
    {
     "name": "stdout",
     "output_type": "stream",
     "text": [
      "Socket Created\n",
      "Waiting for connection...\n",
      "Connected to:  ('127.0.0.1', 59099)\n"
     ]
    },
    {
     "data": {
      "text/plain": [
       "11"
      ]
     },
     "execution_count": 1,
     "metadata": {},
     "output_type": "execute_result"
    }
   ],
   "source": [
    "import socket \n",
    "table={\n",
    "    '192.168.1.1':'1E.4A.4A.11',\n",
    "    '1E.4A.4A.11':'192.168.1.1'\n",
    "}\n",
    "s=socket.socket(family=socket.AF_INET, type=socket.SOCK_STREAM)\n",
    "print(\"Socket Created\")\n",
    "s.bind(('',2130))\n",
    "s.listen()\n",
    "print(\"Waiting for connection...\")\n",
    "c,addr=s.accept()\n",
    "print(\"Connected to: \",addr)\n",
    "ip=c.recv(1024)\n",
    "ip=ip.decode(\"utf-8\")\n",
    "mac=table.get(ip, \"No entry found\")\n",
    "c.send(mac.encode())"
   ]
  },
  {
   "cell_type": "code",
   "execution_count": null,
   "id": "f3d773b5",
   "metadata": {},
   "outputs": [],
   "source": []
  }
 ],
 "metadata": {
  "kernelspec": {
   "display_name": "Python 3 (ipykernel)",
   "language": "python",
   "name": "python3"
  },
  "language_info": {
   "codemirror_mode": {
    "name": "ipython",
    "version": 3
   },
   "file_extension": ".py",
   "mimetype": "text/x-python",
   "name": "python",
   "nbconvert_exporter": "python",
   "pygments_lexer": "ipython3",
   "version": "3.9.7"
  }
 },
 "nbformat": 4,
 "nbformat_minor": 5
}
