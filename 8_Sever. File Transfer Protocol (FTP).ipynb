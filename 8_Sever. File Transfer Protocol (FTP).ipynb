{
 "cells": [
  {
   "cell_type": "code",
   "execution_count": null,
   "id": "266e549e",
   "metadata": {},
   "outputs": [
    {
     "name": "stdout",
     "output_type": "stream",
     "text": [
      "Socket Created\n",
      "Waiting for connection...\n",
      "Connected to:  ('127.0.0.1', 53557)\n",
      "file : Hello World! \n",
      "My name is Haripreeth Avarur. \n"
     ]
    }
   ],
   "source": [
    "import socket\n",
    "s = socket.socket(family=socket.AF_INET,type=socket.SOCK_STREAM)\n",
    "print(\"Socket Created\")\n",
    "s.bind(('127.0.0.1', 2130))\n",
    "s.listen(5)\n",
    "print(\"Waiting for connection...\")\n",
    "\n",
    "while True:\n",
    "    c, addr = s.accept()\n",
    "    print(\"Connected to: \",addr)\n",
    "    f = open(c.recv(1024), 'r')\n",
    "    fc = f.read()\n",
    "    c.send(fc.encode())\n",
    "    c.close()\n",
    "    print(\"file : \" + fc)"
   ]
  },
  {
   "cell_type": "code",
   "execution_count": null,
   "id": "e65abd58",
   "metadata": {},
   "outputs": [],
   "source": []
  }
 ],
 "metadata": {
  "kernelspec": {
   "display_name": "Python 3 (ipykernel)",
   "language": "python",
   "name": "python3"
  },
  "language_info": {
   "codemirror_mode": {
    "name": "ipython",
    "version": 3
   },
   "file_extension": ".py",
   "mimetype": "text/x-python",
   "name": "python",
   "nbconvert_exporter": "python",
   "pygments_lexer": "ipython3",
   "version": "3.9.7"
  }
 },
 "nbformat": 4,
 "nbformat_minor": 5
}
