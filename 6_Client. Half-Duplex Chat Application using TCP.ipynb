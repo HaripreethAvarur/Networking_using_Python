{
 "cells": [
  {
   "cell_type": "code",
   "execution_count": null,
   "id": "665453fa",
   "metadata": {},
   "outputs": [
    {
     "name": "stdout",
     "output_type": "stream",
     "text": [
      "client (you): hi\n",
      "server:  sup\n",
      "client (you): i did it\n"
     ]
    }
   ],
   "source": [
    "import socket\n",
    "c = socket.socket(family=socket.AF_INET, type=socket.SOCK_STREAM)\n",
    "c.connect(('localhost',5000))\n",
    "\n",
    "while True:\n",
    "    msg_tos = input(\"client (you): \")\n",
    "    c.send(msg_tos.encode())\n",
    "    msg_froms = c.recv(2048)\n",
    "    print (\"server: \", msg_froms.decode())\n",
    "  "
   ]
  },
  {
   "cell_type": "code",
   "execution_count": null,
   "id": "7e13df3c",
   "metadata": {},
   "outputs": [],
   "source": []
  }
 ],
 "metadata": {
  "kernelspec": {
   "display_name": "Python 3 (ipykernel)",
   "language": "python",
   "name": "python3"
  },
  "language_info": {
   "codemirror_mode": {
    "name": "ipython",
    "version": 3
   },
   "file_extension": ".py",
   "mimetype": "text/x-python",
   "name": "python",
   "nbconvert_exporter": "python",
   "pygments_lexer": "ipython3",
   "version": "3.9.7"
  }
 },
 "nbformat": 4,
 "nbformat_minor": 5
}
