{
 "cells": [
  {
   "cell_type": "code",
   "execution_count": null,
   "id": "6d59851d",
   "metadata": {},
   "outputs": [
    {
     "name": "stdout",
     "output_type": "stream",
     "text": [
      "Server is listening on  3000\n",
      "New connection at address =  ('127.0.0.1', 50920)\n",
      "ACTIVE CONNECTIONS =  6\n",
      "('127.0.0.1', 50920)  :  hi\n",
      ">>hello\n",
      "('127.0.0.1', 50920)  :  sup\n"
     ]
    }
   ],
   "source": [
    "import socket\n",
    "import threading\n",
    "\n",
    "def client_handler(conn,addr):\n",
    "    print(\"New connection at address = \",addr)\n",
    "    connected = True \n",
    "    while connected:\n",
    "        msg = conn.recv(1024).decode('utf-8')\n",
    "        if(msg=='disconnect'):\n",
    "            connected=False\n",
    "        print(addr,\" : \",msg)\n",
    "        reply = input(\">>\")\n",
    "        conn.send(reply.encode('utf-8'))\n",
    "    conn.close()\n",
    "    \n",
    "addr = ('localhost',3000)\n",
    "server = socket.socket(socket.AF_INET,socket.SOCK_STREAM)\n",
    "server.bind(addr)\n",
    "server.listen()\n",
    "print(\"Server is listening on \",3000)\n",
    "while True:\n",
    "    conn,addr = server.accept()\n",
    "    thread = threading.Thread(target=client_handler,args=(conn,addr))\n",
    "    thread.start()\n",
    "    print(\"ACTIVE CONNECTIONS = \",threading.active_count()-1)"
   ]
  },
  {
   "cell_type": "code",
   "execution_count": null,
   "id": "546eb607",
   "metadata": {},
   "outputs": [],
   "source": []
  }
 ],
 "metadata": {
  "kernelspec": {
   "display_name": "Python 3 (ipykernel)",
   "language": "python",
   "name": "python3"
  },
  "language_info": {
   "codemirror_mode": {
    "name": "ipython",
    "version": 3
   },
   "file_extension": ".py",
   "mimetype": "text/x-python",
   "name": "python",
   "nbconvert_exporter": "python",
   "pygments_lexer": "ipython3",
   "version": "3.9.7"
  }
 },
 "nbformat": 4,
 "nbformat_minor": 5
}
