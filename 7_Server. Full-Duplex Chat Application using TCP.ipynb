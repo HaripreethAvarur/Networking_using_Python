{
 "cells": [
  {
   "cell_type": "code",
   "execution_count": null,
   "id": "6d59851d",
   "metadata": {},
   "outputs": [],
   "source": [
    "import socket\n",
    "server_port = 5000\n",
    "s=socket.socket(family=socket.AF_INET,type=socket.SOCK_STREAM)\n",
    "s.bind(('',5000))\n",
    "sert.listen(1)\n",
    "print (\"Welcome: The server is now ready to receive\")\n",
    "connection_socket, address = server_socket.accept()\n",
    "while True:\n",
    "  sentence = connection_socket.recv(2048).decode()\n",
    "  print('>> ',sentence)\n",
    "  message = input(\">> \")\n",
    "  connection_socket.send(message.encode())\n",
    "  if(message == 'q'):\n",
    "    connectionSocket.close()"
   ]
  }
 ],
 "metadata": {
  "kernelspec": {
   "display_name": "Python 3 (ipykernel)",
   "language": "python",
   "name": "python3"
  },
  "language_info": {
   "codemirror_mode": {
    "name": "ipython",
    "version": 3
   },
   "file_extension": ".py",
   "mimetype": "text/x-python",
   "name": "python",
   "nbconvert_exporter": "python",
   "pygments_lexer": "ipython3",
   "version": "3.9.7"
  }
 },
 "nbformat": 4,
 "nbformat_minor": 5
}
