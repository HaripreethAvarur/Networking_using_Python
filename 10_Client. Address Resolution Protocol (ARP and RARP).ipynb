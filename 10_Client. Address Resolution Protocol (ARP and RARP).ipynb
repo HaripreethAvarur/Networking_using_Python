{
 "cells": [
  {
   "cell_type": "code",
   "execution_count": 1,
   "id": "260f9a68",
   "metadata": {},
   "outputs": [
    {
     "name": "stdout",
     "output_type": "stream",
     "text": [
      "ARP or RARP: ARP\n",
      "Enter IP: 192.168.1.1\n",
      "MAC:  1E.4A.4A.11\n"
     ]
    }
   ],
   "source": [
    "import socket\n",
    "s=socket.socket(socket.AF_INET, socket.SOCK_STREAM)\n",
    "s.connect(('localhost',2130))\n",
    "a=input('ARP or RARP: ')\n",
    "if(a==\"ARP\"):\n",
    "    add=input(\"Enter IP: \")\n",
    "elif(a==\"RARP\"):\n",
    "    add=input(\"Enter MAC: \")\n",
    "s.send(add.encode())\n",
    "mac=s.recv(1024)\n",
    "mac=mac.decode(\"utf-8\")\n",
    "if(a==\"ARP\"):\n",
    "    print(\"MAC: \",mac)\n",
    "elif(a==\"RARP\"):\n",
    "    print(\"IP: \",ip)"
   ]
  },
  {
   "cell_type": "code",
   "execution_count": null,
   "id": "ac72e165",
   "metadata": {},
   "outputs": [],
   "source": []
  }
 ],
 "metadata": {
  "kernelspec": {
   "display_name": "Python 3 (ipykernel)",
   "language": "python",
   "name": "python3"
  },
  "language_info": {
   "codemirror_mode": {
    "name": "ipython",
    "version": 3
   },
   "file_extension": ".py",
   "mimetype": "text/x-python",
   "name": "python",
   "nbconvert_exporter": "python",
   "pygments_lexer": "ipython3",
   "version": "3.9.7"
  }
 },
 "nbformat": 4,
 "nbformat_minor": 5
}
