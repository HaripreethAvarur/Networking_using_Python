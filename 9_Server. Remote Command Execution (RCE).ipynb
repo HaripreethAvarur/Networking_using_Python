{
 "cells": [
  {
   "cell_type": "code",
   "execution_count": null,
   "id": "eeebb220",
   "metadata": {},
   "outputs": [],
   "source": [
    "import socket\n",
    "import os\n",
    "s = socket.socket(socket.AF_INET, socket.SOCK_STREAM)\n",
    "print(\"Socket Created\")\n",
    "s.bind((socket.gethostname(), 2130))\n",
    "s.listen(5)\n",
    "print(\"Waiting for connection...\")\n",
    "while True:\n",
    "    conn, addr = s.accept();\n",
    "    conn.send(\"Connected To Server\".encode())\n",
    "    msg = conn.recv(2048).decode()\n",
    "    os.system(msg)\n",
    "    print(msg)"
   ]
  },
  {
   "cell_type": "code",
   "execution_count": null,
   "id": "4f54b1d0",
   "metadata": {},
   "outputs": [
    {
     "name": "stdout",
     "output_type": "stream",
     "text": [
      "Socket Created\n",
      "Waiting for connection...\n"
     ]
    }
   ],
   "source": [
    "import socket\n",
    "import os\n",
    "s = socket.socket(socket.AF_INET, socket.SOCK_DGRAM)\n",
    "print(\"Socket Created\")\n",
    "s.bind((socket.gethostname(), 3000))\n",
    "print(\"Waiting for connection...\")\n",
    "while True:\n",
    "    conn, addr = s.recvfrom(2048);\n",
    "    conn.sendto(\"Connected To Server\".encode())\n",
    "    msg = conn.recvfrom(2048).decode()\n",
    "    os.system(msg)\n",
    "    print(msg)"
   ]
  },
  {
   "cell_type": "code",
   "execution_count": null,
   "id": "a77475aa",
   "metadata": {},
   "outputs": [],
   "source": []
  }
 ],
 "metadata": {
  "kernelspec": {
   "display_name": "Python 3 (ipykernel)",
   "language": "python",
   "name": "python3"
  },
  "language_info": {
   "codemirror_mode": {
    "name": "ipython",
    "version": 3
   },
   "file_extension": ".py",
   "mimetype": "text/x-python",
   "name": "python",
   "nbconvert_exporter": "python",
   "pygments_lexer": "ipython3",
   "version": "3.9.7"
  }
 },
 "nbformat": 4,
 "nbformat_minor": 5
}
