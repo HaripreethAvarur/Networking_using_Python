{
 "cells": [
  {
   "cell_type": "code",
   "execution_count": null,
   "id": "70aa420d",
   "metadata": {},
   "outputs": [
    {
     "name": "stdout",
     "output_type": "stream",
     "text": [
      "Socket Created\n",
      "Server Listening...\n",
      "Recieved Message:  b'Hello Server' from:  ('192.168.1.19', 63065)\n",
      "Recieved Message:  b'hi' from:  ('192.168.1.19', 54369)\n"
     ]
    }
   ],
   "source": [
    "import socket\n",
    "s=socket.socket(family=socket.AF_INET, type=socket.SOCK_DGRAM)\n",
    "print(\"Socket Created\")\n",
    "udp_host=socket.gethostname()\n",
    "udp_port=2130\n",
    "s.bind((udp_host,udp_port))\n",
    "print(\"Server Listening...\")\n",
    "while True:\n",
    "    data, addr = s.recvfrom(1024)\n",
    "    print(\"Recieved Message: \", data, \"from: \", addr)"
   ]
  },
  {
   "cell_type": "code",
   "execution_count": null,
   "id": "93593f40",
   "metadata": {},
   "outputs": [],
   "source": []
  }
 ],
 "metadata": {
  "kernelspec": {
   "display_name": "Python 3 (ipykernel)",
   "language": "python",
   "name": "python3"
  },
  "language_info": {
   "codemirror_mode": {
    "name": "ipython",
    "version": 3
   },
   "file_extension": ".py",
   "mimetype": "text/x-python",
   "name": "python",
   "nbconvert_exporter": "python",
   "pygments_lexer": "ipython3",
   "version": "3.9.7"
  }
 },
 "nbformat": 4,
 "nbformat_minor": 5
}
