{
 "cells": [
  {
   "cell_type": "code",
   "execution_count": 2,
   "id": "b63b2748",
   "metadata": {},
   "outputs": [
    {
     "name": "stdout",
     "output_type": "stream",
     "text": [
      "Enter file name: 8_Text. FTP Text File\n",
      "Hello World! \n",
      "My name is Haripreeth Avarur. \n"
     ]
    }
   ],
   "source": [
    "import socket\n",
    "c=socket.socket()\n",
    "c.connect(('127.0.0.1',2130))\n",
    "\n",
    "filename=str(input(\"Enter file name: \"))\n",
    "c.send(bytes(filename,'utf-8'))\n",
    "filedata=c.recv(1024).decode()\n",
    "print(filedata)\n",
    "c.close()"
   ]
  },
  {
   "cell_type": "code",
   "execution_count": null,
   "id": "554720ff",
   "metadata": {},
   "outputs": [],
   "source": []
  }
 ],
 "metadata": {
  "kernelspec": {
   "display_name": "Python 3 (ipykernel)",
   "language": "python",
   "name": "python3"
  },
  "language_info": {
   "codemirror_mode": {
    "name": "ipython",
    "version": 3
   },
   "file_extension": ".py",
   "mimetype": "text/x-python",
   "name": "python",
   "nbconvert_exporter": "python",
   "pygments_lexer": "ipython3",
   "version": "3.9.7"
  }
 },
 "nbformat": 4,
 "nbformat_minor": 5
}
