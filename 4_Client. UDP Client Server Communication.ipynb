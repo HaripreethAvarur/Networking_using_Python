{
 "cells": [
  {
   "cell_type": "code",
   "execution_count": 10,
   "id": "ada7f1dc",
   "metadata": {},
   "outputs": [
    {
     "name": "stdout",
     "output_type": "stream",
     "text": [
      "Enter: hi\n"
     ]
    },
    {
     "data": {
      "text/plain": [
       "2"
      ]
     },
     "execution_count": 10,
     "metadata": {},
     "output_type": "execute_result"
    }
   ],
   "source": [
    "import socket\n",
    "c=socket.socket(family=socket.AF_INET, type=socket.SOCK_DGRAM)\n",
    "msgto=input(\"Enter: \")\n",
    "udp_host=socket.gethostname()\n",
    "udp_port=2130\n",
    "c.sendto((str.encode(msgto)),(udp_host, udp_port))"
   ]
  },
  {
   "cell_type": "code",
   "execution_count": null,
   "id": "2297fbac",
   "metadata": {},
   "outputs": [],
   "source": []
  }
 ],
 "metadata": {
  "kernelspec": {
   "display_name": "Python 3 (ipykernel)",
   "language": "python",
   "name": "python3"
  },
  "language_info": {
   "codemirror_mode": {
    "name": "ipython",
    "version": 3
   },
   "file_extension": ".py",
   "mimetype": "text/x-python",
   "name": "python",
   "nbconvert_exporter": "python",
   "pygments_lexer": "ipython3",
   "version": "3.9.7"
  }
 },
 "nbformat": 4,
 "nbformat_minor": 5
}
